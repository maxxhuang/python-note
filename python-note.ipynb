{
 "cells": [
  {
   "cell_type": "markdown",
   "id": "3ac5e73a-ba85-44ab-b9b1-685114891709",
   "metadata": {},
   "source": [
    "# Before Getting Started\n",
    "- Install Python 3.10+\n",
    "- Create a Python virutal environment (e.g. venv, conda)\n",
    "- Bookmark Python Standard Library Website\n",
    "    - https://docs.python.org/3/library/index.html#library-index"
   ]
  },
  {
   "cell_type": "markdown",
   "id": "dabc8044-24bc-4c7f-a615-c669d0b3db59",
   "metadata": {},
   "source": [
    "# Naming Convention\n",
    "- https://peps.python.org/pep-0008/\n",
    "## CamelCase\n",
    "  - class name"
   ]
  },
  {
   "cell_type": "code",
   "execution_count": 1,
   "id": "876d3a69-b420-4ebe-83af-9f1cc4834a4c",
   "metadata": {},
   "outputs": [],
   "source": [
    "class MyCamelClass:\n",
    "  pass"
   ]
  },
  {
   "cell_type": "markdown",
   "id": "26c1edc9-5910-467c-bf2c-9498f977fc23",
   "metadata": {},
   "source": [
    "## snake_case\n",
    "  - variable name\n",
    "  - function name\n",
    "  - module name"
   ]
  },
  {
   "cell_type": "code",
   "execution_count": 2,
   "id": "9afd5702-64dd-4caa-bd48-2e8d34a21d2e",
   "metadata": {},
   "outputs": [],
   "source": [
    "def initialize_global_config(config_source: str):\n",
    "  pass"
   ]
  },
  {
   "attachments": {},
   "cell_type": "markdown",
   "id": "5da9e30b-b344-4045-9483-f232ae3336e2",
   "metadata": {},
   "source": [
    "# Collection\n",
    "## Collection Literal"
   ]
  },
  {
   "cell_type": "code",
   "execution_count": 3,
   "id": "c4a52f82-50e2-4a9a-af11-158b0368937f",
   "metadata": {},
   "outputs": [
    {
     "data": {
      "text/plain": [
       "list"
      ]
     },
     "execution_count": 3,
     "metadata": {},
     "output_type": "execute_result"
    }
   ],
   "source": [
    "col_list = [\"abc\", \"def\", \"xyz\"]\n",
    "type(col_list)"
   ]
  },
  {
   "cell_type": "code",
   "execution_count": 4,
   "id": "121cb6fe-c208-4617-b275-493f5b87e9c4",
   "metadata": {},
   "outputs": [
    {
     "data": {
      "text/plain": [
       "tuple"
      ]
     },
     "execution_count": 4,
     "metadata": {},
     "output_type": "execute_result"
    }
   ],
   "source": [
    "col_tuple = (\"abc\", 123, True)\n",
    "type(col_tuple)"
   ]
  },
  {
   "cell_type": "code",
   "execution_count": 5,
   "id": "a91cae11-b3d7-4f58-916d-ee5197d51cb8",
   "metadata": {},
   "outputs": [
    {
     "data": {
      "text/plain": [
       "dict"
      ]
     },
     "execution_count": 5,
     "metadata": {},
     "output_type": "execute_result"
    }
   ],
   "source": [
    "col_dict = {\"k1\": \"v1\", \"k2\": 2, \"k3\": True}\n",
    "type(col_dict)"
   ]
  },
  {
   "cell_type": "code",
   "execution_count": 6,
   "id": "8d6ea0f1-dc56-4be2-b656-956d01ce0568",
   "metadata": {},
   "outputs": [
    {
     "name": "stdout",
     "output_type": "stream",
     "text": [
      "{1, 2, 3, 4, 5}\n"
     ]
    },
    {
     "data": {
      "text/plain": [
       "set"
      ]
     },
     "execution_count": 6,
     "metadata": {},
     "output_type": "execute_result"
    }
   ],
   "source": [
    "col_set = {1, 2, 2, 3, 4, 5, 5, 5}\n",
    "print(col_set)\n",
    "type(col_set)"
   ]
  },
  {
   "cell_type": "code",
   "execution_count": 7,
   "id": "044ab296-edfc-403d-a843-a17250b68df2",
   "metadata": {},
   "outputs": [
    {
     "data": {
      "text/plain": [
       "str"
      ]
     },
     "execution_count": 7,
     "metadata": {},
     "output_type": "execute_result"
    }
   ],
   "source": [
    "col_str = \"abcdefg\"\n",
    "type(col_str)"
   ]
  },
  {
   "cell_type": "markdown",
   "id": "8d9574d7-1a81-4b0c-b051-d8cdda9015d1",
   "metadata": {},
   "source": [
    "## Hiararchy"
   ]
  },
  {
   "cell_type": "code",
   "execution_count": 8,
   "id": "c5c9c298-cbac-43c8-8c06-5fbbc821dd31",
   "metadata": {},
   "outputs": [
    {
     "data": {
      "text/html": [
       "<img src=\"python-collection-abc.webp\" width=\"1200\" height=\"1200\"/>"
      ],
      "text/plain": [
       "<IPython.core.display.Image object>"
      ]
     },
     "execution_count": 8,
     "metadata": {},
     "output_type": "execute_result"
    }
   ],
   "source": [
    "from IPython import display\n",
    "display.Image(url=\"python-collection-abc.webp\", height=1200, width=1200)"
   ]
  },
  {
   "cell_type": "markdown",
   "id": "4389ce62-db5a-4925-8a7b-014789e08482",
   "metadata": {},
   "source": [
    "###### collections abstract base classes and built-in container types\n",
    "###### source: https://sangmoonoh.medium.com/just-class-diagram-for-python-3-collections-abstract-base-classes-e1eafde6ad25"
   ]
  },
  {
   "cell_type": "markdown",
   "id": "83d55cf6-940d-474c-a35b-45d518da689f",
   "metadata": {},
   "source": [
    "- All collections inherit collections.Iterable\n",
    "- Iterable defines \\_\\_iter\\_\\_() that returns a collections.abc.Iterator\n",
    "- Iterator defines \\_\\_next\\_\\_() that returns the next item in it. If no item left in the Iterator,\n",
    "  it raises (throws) a StopIteration error to signal the end of the iteration.\n",
    "- Iterator also defines \\_\\_iter\\_\\_ as Iterable does. The implementation returns the Iterator itself."
   ]
  },
  {
   "cell_type": "code",
   "execution_count": 9,
   "id": "1903a3a2-5476-4a49-a155-24159b901b37",
   "metadata": {},
   "outputs": [
    {
     "name": "stdout",
     "output_type": "stream",
     "text": [
      "the return value of col_list.__iter__() is <class 'list_iterator'>. Is it an instance of Iterator? True\n",
      "\n",
      "the return value of col_tuple.__iter__() is <class 'tuple_iterator'>. Is it an instance of Iterator? True\n",
      "\n",
      "the return value of col_dict.__iter__() is <class 'dict_keyiterator'>. Is it an instance of Iterator? True\n",
      "\n",
      "the return value of col_set.__iter__() is <class 'set_iterator'>. Is it an instance of Iterator? True\n",
      "\n",
      "the return value of col_str.__iter__() is <class 'str_ascii_iterator'>. Is it an instance of Iterator? True\n",
      "\n"
     ]
    }
   ],
   "source": [
    "from collections.abc import Iterator\n",
    "\n",
    "iter1 = col_list.__iter__()\n",
    "print(f\"the return value of col_list.__iter__() is {type(iter1)}. Is it an instance of Iterator? {isinstance(iter1, Iterator)}\")\n",
    "print()\n",
    "\n",
    "iter2 = col_tuple.__iter__()\n",
    "print(f\"the return value of col_tuple.__iter__() is {type(iter2)}. Is it an instance of Iterator? {isinstance(iter2, Iterator)}\")\n",
    "print()\n",
    "\n",
    "iter3 = col_dict.__iter__()\n",
    "print(f\"the return value of col_dict.__iter__() is {type(iter3)}. Is it an instance of Iterator? {isinstance(iter3, Iterator)}\")\n",
    "print()\n",
    "\n",
    "iter4 = col_set.__iter__()\n",
    "print(f\"the return value of col_set.__iter__() is {type(iter4)}. Is it an instance of Iterator? {isinstance(iter4, Iterator)}\")\n",
    "print()\n",
    "\n",
    "iter5 = col_str.__iter__()\n",
    "print(f\"the return value of col_str.__iter__() is {type(iter5)}. Is it an instance of Iterator? {isinstance(iter5, Iterator)}\")\n",
    "print()"
   ]
  },
  {
   "cell_type": "markdown",
   "id": "b2ada51a-ae65-44c2-8693-973bb08b97b7",
   "metadata": {},
   "source": [
    "Note: Direct invocation of <collection>.\\_\\_iter\\_\\_() method is just for demo's purpose.\n",
    "To obtain an Iterator object from a collection or some other objct (i.e. objects with \\_\\_getitem()\\_\\_ method), \n",
    "use the built-in function (**iter()**)"
   ]
  },
  {
   "cell_type": "code",
   "execution_count": 10,
   "id": "4cfa73b4-e208-41ed-82ac-f743ab57a38b",
   "metadata": {},
   "outputs": [
    {
     "name": "stdout",
     "output_type": "stream",
     "text": [
      "the return value of iter(ManWhoCanIterate(5)) is <class 'iterator'>. Is it an instance of Iterator? True\n",
      "the content of iter(ManWhoCanIterate(5): [0, 1, 2, 3, 4]\n"
     ]
    }
   ],
   "source": [
    "class ManWhoCanIterate:\n",
    "    def __init__(self, n: int):\n",
    "        self.max_number = n\n",
    "\n",
    "    def __getitem__(self, n):\n",
    "        if 0 <= n < self.max_number:\n",
    "            return n\n",
    "\n",
    "        raise IndexError\n",
    "\n",
    "iter_man = ManWhoCanIterate(5)\n",
    "iter6 = iter(iter_man)\n",
    "print(f\"the return value of iter(ManWhoCanIterate(5)) is {type(iter6)}. Is it an instance of Iterator? {isinstance(iter6, Iterator)}\")\n",
    "print(f\"the content of iter(ManWhoCanIterate(5): {list(iter6)}\")"
   ]
  },
  {
   "cell_type": "markdown",
   "id": "6ae3c6f0-44f4-4d89-8e04-01cfabda6f2c",
   "metadata": {},
   "source": [
    "## Implicit Usage of Iterable / Iterator\n",
    "### Iterate Collections Using 'for'"
   ]
  },
  {
   "cell_type": "code",
   "execution_count": 11,
   "id": "39c79f1e-0ac6-40ba-8504-fa39e27d1a67",
   "metadata": {},
   "outputs": [
    {
     "name": "stdout",
     "output_type": "stream",
     "text": [
      "\n",
      "\n",
      "iterate list\n",
      "abc\n",
      "def\n",
      "xyz\n",
      "\n",
      "\n",
      "iterate tuple\n",
      "abc\n",
      "123\n",
      "True\n",
      "\n",
      "\n",
      "iterate dict\n",
      "k1\n",
      "k2\n",
      "k3\n",
      "\n",
      "\n",
      "iterate dict entries\n",
      "('k1', 'v1')\n",
      "('k2', 2)\n",
      "('k3', True)\n",
      "\n",
      "\n",
      "iterate set\n",
      "1\n",
      "2\n",
      "3\n",
      "4\n",
      "5\n",
      "\n",
      "\n",
      "iterate str\n",
      "a\n",
      "b\n",
      "c\n",
      "d\n",
      "e\n",
      "f\n",
      "g\n",
      "\n",
      "\n",
      "iterate iter_man\n",
      "0\n",
      "1\n",
      "2\n",
      "3\n",
      "4\n"
     ]
    }
   ],
   "source": [
    "print(\"\\n\\niterate list\")\n",
    "for item in col_list:\n",
    "    print(item)\n",
    "\n",
    "print(\"\\n\\niterate tuple\")\n",
    "for item in col_tuple:\n",
    "    print(item)\n",
    "\n",
    "print(\"\\n\\niterate dict\")\n",
    "for item in col_dict:\n",
    "    print(item)\n",
    "\n",
    "print(\"\\n\\niterate dict entries\")\n",
    "for item in col_dict.items():\n",
    "    print(item)\n",
    "\n",
    "print(\"\\n\\niterate set\")\n",
    "for item in col_set:\n",
    "    print(item)\n",
    "\n",
    "print(\"\\n\\niterate str\")\n",
    "for item in col_str:\n",
    "    print(item)\n",
    "\n",
    "print(\"\\n\\niterate iter_man\")\n",
    "for item in iter_man:\n",
    "    print(item)"
   ]
  },
  {
   "cell_type": "code",
   "execution_count": 12,
   "id": "653de83e-e611-4c0a-8302-ac5df524e4fd",
   "metadata": {},
   "outputs": [
    {
     "name": "stdout",
     "output_type": "stream",
     "text": [
      "\n",
      "\n",
      "iterate RepeatChar\n",
      "*\n",
      "**\n",
      "***\n",
      "****\n",
      "*****\n",
      "\n",
      "\n",
      "iterate the Iterator from RepeatChar\n",
      "*\n",
      "**\n",
      "***\n",
      "****\n",
      "*****\n",
      "\n",
      "\n",
      "iterate the same Iterator again\n"
     ]
    }
   ],
   "source": [
    "class RepeatCharIterator(Iterator):\n",
    "  def __init__(self, char: str, repeat: int):\n",
    "    self.char = char\n",
    "    self.repeat = repeat\n",
    "    self.current = 0\n",
    "\n",
    "  def __next__(self):\n",
    "    self.current = self.current + 1\n",
    "    if self.current > self.repeat:\n",
    "      raise StopIteration\n",
    "\n",
    "    return self.char * self.current\n",
    "\n",
    "  def __iter__(self):\n",
    "    return self\n",
    "\n",
    "\n",
    "class RepeatChar:\n",
    "  def __init__(self, char: str, repeat: int):\n",
    "    self.char = char\n",
    "    self.repeat = repeat\n",
    "\n",
    "  def __iter__(self):\n",
    "    return RepeatCharIterator(self.char, self.repeat)\n",
    "\n",
    "print(\"\\n\\niterate RepeatChar\")\n",
    "for s in RepeatChar(\"*\", 5):\n",
    "    print(s)\n",
    "\n",
    "print(\"\\n\\niterate the Iterator from RepeatChar\")\n",
    "# Iterator is also an Iterable, but it can only be iterated once\n",
    "iter_from_repeat_char = iter(RepeatChar(\"*\", 5))\n",
    "for s in iter_from_repeat_char:\n",
    "    print(s)\n",
    "\n",
    "print(\"\\n\\niterate the same Iterator again\")\n",
    "# Second attempt to iterate the same Iterator. Nothing got printed\n",
    "for s in iter_from_repeat_char:\n",
    "    print(s)"
   ]
  },
  {
   "cell_type": "markdown",
   "id": "47bb076e-c55a-44f8-b988-ebec9ed917d3",
   "metadata": {},
   "source": [
    "### Unpacking of Collections"
   ]
  },
  {
   "cell_type": "code",
   "execution_count": 13,
   "id": "c947b8ae-d263-4898-aac9-573f7d534969",
   "metadata": {},
   "outputs": [
    {
     "name": "stdout",
     "output_type": "stream",
     "text": [
      "\n",
      "unpacking of list\n",
      "abc def xyz\n"
     ]
    }
   ],
   "source": [
    "print(\"\\nunpacking of list\")\n",
    "var1, var2, var3 = col_list\n",
    "print(var1, var2, var3)"
   ]
  },
  {
   "cell_type": "code",
   "execution_count": 14,
   "id": "d0fe2cba-a104-464b-90be-f3e1480b18cc",
   "metadata": {},
   "outputs": [
    {
     "name": "stdout",
     "output_type": "stream",
     "text": [
      "\n",
      "unpacking of dict\n",
      "k1 k2 k3\n"
     ]
    }
   ],
   "source": [
    "print(\"\\nunpacking of dict\")\n",
    "var4, var5, var6 = col_dict\n",
    "print(var4, var5, var6)"
   ]
  },
  {
   "cell_type": "code",
   "execution_count": 15,
   "id": "fa8ef0de-eae4-46e7-b7da-94dfc90e7ea4",
   "metadata": {},
   "outputs": [
    {
     "name": "stdout",
     "output_type": "stream",
     "text": [
      "\n",
      "unpacking of tuple\n",
      "abc\n"
     ]
    }
   ],
   "source": [
    "print(\"\\nunpacking of tuple\")\n",
    "var_name, *_ = col_tuple\n",
    "print(var_name)"
   ]
  },
  {
   "cell_type": "code",
   "execution_count": 16,
   "id": "5f538808-ebb3-41ed-a386-cfb16776b9cd",
   "metadata": {},
   "outputs": [
    {
     "name": "stdout",
     "output_type": "stream",
     "text": [
      "\n",
      "unpacking of nested items, available in Python 3.10+\n",
      "k1 => v1\n",
      "others: [('k2', 2), ('k3', True)]\n"
     ]
    }
   ],
   "source": [
    "print(\"\\nunpacking of nested items, available in Python 3.10+\")\n",
    "(k1, v1), *others = col_dict.items()\n",
    "print(f\"{k1} => {v1}\")\n",
    "print(f\"others: {others}\")"
   ]
  },
  {
   "cell_type": "code",
   "execution_count": 17,
   "id": "372af0cd-77e1-40f7-9748-7b71cb7044c4",
   "metadata": {},
   "outputs": [
    {
     "name": "stdout",
     "output_type": "stream",
     "text": [
      "\n",
      "unexpected unpacking of nested items\n",
      "('k1', 'v1') => ('k2', 2)\n",
      "others: [('k3', True)]\n"
     ]
    }
   ],
   "source": [
    "print(\"\\nunexpected unpacking of nested items\")\n",
    "k1, v1, *others = col_dict.items()\n",
    "print(f\"{k1} => {v1}\")\n",
    "print(f\"others: {others}\")"
   ]
  },
  {
   "cell_type": "code",
   "execution_count": 18,
   "id": "8504f132-a136-4d7d-b478-bd4cd9a33da1",
   "metadata": {},
   "outputs": [
    {
     "name": "stdout",
     "output_type": "stream",
     "text": [
      "\n",
      "unpacking of str\n",
      "a b c\n"
     ]
    }
   ],
   "source": [
    "print(\"\\nunpacking of str\")\n",
    "a, b, c, *_ = col_str\n",
    "print(a, b, c)"
   ]
  },
  {
   "cell_type": "code",
   "execution_count": 19,
   "id": "0028673e-0c38-4967-9224-770f02602149",
   "metadata": {},
   "outputs": [
    {
     "name": "stdout",
     "output_type": "stream",
     "text": [
      "\n",
      "unpacking of ManWhoCanIterate(5)\n",
      "2 3 4\n"
     ]
    }
   ],
   "source": [
    "print(\"\\nunpacking of ManWhoCanIterate(5)\")\n",
    "*_, n3, n4, n5 = iter_man\n",
    "print(n3, n4, n5)"
   ]
  },
  {
   "cell_type": "code",
   "execution_count": 20,
   "id": "a450833e-70c8-4e4f-a21f-ed86592f29e5",
   "metadata": {},
   "outputs": [
    {
     "name": "stdout",
     "output_type": "stream",
     "text": [
      "\n",
      "typical usage of unpacking of function call result\n",
      "info1 info2\n"
     ]
    }
   ],
   "source": [
    "def get_pair_info():\n",
    "    return (\"info1\", \"info2\")\n",
    "\n",
    "print(\"\\ntypical usage of unpacking of function call result\")\n",
    "r1, r2 = get_pair_info()\n",
    "print(r1, r2)"
   ]
  },
  {
   "cell_type": "markdown",
   "id": "ee6f4f38-1902-4caf-ae21-0bcfd3f07b19",
   "metadata": {},
   "source": [
    "To be more precise, the for iteration and unpacking can be applied to any objects that can generate an Iterator \n",
    "using the built-in function (iter()).\n",
    "\n",
    "Even objects are not subclasses of Iterable, they can still be iterated or unpacked as long as they have either one \n",
    "of the methods implemeted\n",
    "  - \\_\\_iter\\_\\_()\n",
    "  - \\_\\_getitem\\_\\_()"
   ]
  },
  {
   "cell_type": "markdown",
   "id": "814ae9e2-cd6a-473a-80c2-d9ec78e1f622",
   "metadata": {},
   "source": [
    "An interesting application of unpacking is variable / value assignment ans swapping"
   ]
  },
  {
   "cell_type": "code",
   "execution_count": 21,
   "id": "e4660c9b-acc2-4329-b134-f3ba6fbccc53",
   "metadata": {},
   "outputs": [
    {
     "name": "stdout",
     "output_type": "stream",
     "text": [
      "swap_var1=5, swap_var2=10\n",
      "swap_var1=10, swap_var2=5\n"
     ]
    }
   ],
   "source": [
    "# variable assignment\n",
    "swap_var1, swap_var2 = 5, 10\n",
    "print(f\"swap_var1={swap_var1}, swap_var2={swap_var2}\")\n",
    "\n",
    "# swapping\n",
    "swap_var1, swap_var2 = swap_var2, swap_var1\n",
    "print(f\"swap_var1={swap_var1}, swap_var2={swap_var2}\")"
   ]
  },
  {
   "cell_type": "markdown",
   "id": "f211eab0-cb65-489a-9dad-6ea5777f783a",
   "metadata": {},
   "source": [
    "# Type Hints (Annotations)"
   ]
  },
  {
   "cell_type": "markdown",
   "id": "996a91eb-e0fc-4ea4-a009-295f4349c512",
   "metadata": {},
   "source": [
    "- PEP 484 (Python 3.5) and PEP 526 (Python 3.6) were introduced to support type hints (type annotations) "
   ]
  },
  {
   "cell_type": "code",
   "execution_count": 22,
   "id": "d3792eb6-7b39-4995-9912-4271ac5a355b",
   "metadata": {},
   "outputs": [],
   "source": [
    "def type_hinted_func(param1: str, param2: int) -> list:\n",
    "    pass"
   ]
  },
  {
   "cell_type": "markdown",
   "id": "9d08fb4e-fa6f-4e3a-a394-156f56228901",
   "metadata": {},
   "source": [
    "- Type hint information is stored as the object's \\_\\_annotations\\_\\_ attribute.\n",
    "- Do not directly access \\_\\_annotations\\_\\_ for annotation information. \\\n",
    "    - Use typing.get_type_hints() (Python 3.5 - Python 3.9) or inspect.get_annotations() (Python 3.10+)"
   ]
  },
  {
   "cell_type": "code",
   "execution_count": 23,
   "id": "31a63f27-2235-4e8f-a3ae-faf2606145de",
   "metadata": {},
   "outputs": [
    {
     "name": "stdout",
     "output_type": "stream",
     "text": [
      "<function type_hinted_func at 0x109e01940>\n",
      "{'param1': <class 'str'>, 'param2': <class 'int'>, 'return': <class 'list'>}\n",
      "{'param1': <class 'str'>, 'param2': <class 'int'>, 'return': <class 'list'>}\n",
      "{'param1': <class 'str'>, 'param2': <class 'int'>, 'return': <class 'list'>}\n"
     ]
    }
   ],
   "source": [
    "print(type_hinted_func)\n",
    "print(type_hinted_func.__annotations__)\n",
    "\n",
    "from typing import get_type_hints\n",
    "print(get_type_hints(type_hinted_func))\n",
    "\n",
    "from inspect import get_annotations\n",
    "print(get_annotations(type_hinted_func))"
   ]
  },
  {
   "cell_type": "markdown",
   "id": "0ba58da0-e9b8-45e9-94f2-f68fe0902bcc",
   "metadata": {},
   "source": [
    "- class variable annotation"
   ]
  },
  {
   "cell_type": "code",
   "execution_count": 24,
   "id": "cbeb7a41-99dc-46f8-be1e-5546c733e680",
   "metadata": {},
   "outputs": [
    {
     "name": "stdout",
     "output_type": "stream",
     "text": [
      "{'cls_attr1': <class 'int'>, 'cls_attr2': list[str], 'cls_attr3': typing.ClassVar[tuple[str, int]]}\n"
     ]
    }
   ],
   "source": [
    "from typing import ClassVar\n",
    "\n",
    "class AnnotatedClass:\n",
    "    cls_attr1: int\n",
    "    cls_attr2: list[str]\n",
    "    cls_attr3: ClassVar[tuple[str, int]] = (\"abc\", 123)\n",
    "\n",
    "print(get_annotations(AnnotatedClass))"
   ]
  },
  {
   "cell_type": "markdown",
   "id": "612ac1f3-3aa3-459c-9a79-207b878f09aa",
   "metadata": {},
   "source": [
    "- Tools can use the type hint information:\n",
    "    - Tools to perform type checking\n",
    "        - Mypy: https://github.com/python/mypy\n",
    "    - IDEs to assist programmers with type information and provide immedate type violations\n",
    "        - PyCharm: https://www.jetbrains.com/help/pycharm/type-hinting-in-product.html\n",
    "- The great value of type hints is that it can increase the code readability by providing the type information"
   ]
  },
  {
   "cell_type": "markdown",
   "id": "6a20c66a-a8dc-4e8a-b81b-bdb6c56a9026",
   "metadata": {},
   "source": [
    "- Python interpretors do not enforce any type checking with the type hint information.\n",
    "  You can still run the type-hint-violated Python code"
   ]
  },
  {
   "cell_type": "code",
   "execution_count": 25,
   "id": "a275e36c-b98b-4e72-a02f-78c02a867c93",
   "metadata": {},
   "outputs": [
    {
     "name": "stdout",
     "output_type": "stream",
     "text": [
      "3\n",
      "12\n",
      "3.0\n",
      "['a', 'b', 'c', 'd']\n"
     ]
    }
   ],
   "source": [
    "def sum_integers(n1: int, n2: int) -> int:\n",
    "    return n1 + n2\n",
    "\n",
    "print(sum_integers(1, 2))\n",
    "print(sum_integers(\"1\", \"2\"))\n",
    "print(sum_integers(1.0, 2.0))\n",
    "print(sum_integers([\"a\", \"b\"], [\"c\", \"d\"]))"
   ]
  },
  {
   "cell_type": "markdown",
   "id": "a62cf02c-7926-41a7-b382-ef2a9150a9e7",
   "metadata": {},
   "source": [
    "# bool / dict / float / int / list / object / set / str / tuple"
   ]
  },
  {
   "cell_type": "markdown",
   "id": "b01c52bf-88ec-414f-ba72-86b87a5bf0a2",
   "metadata": {},
   "source": [
    "## Types\n",
    "Before Python 3.9 with the introduction of PEP 585 (https://peps.python.org/pep-0585/),\n",
    "you need to import 'typing' module to use generics for standard collections: list, tuple, dict, set...\n",
    "\n",
    "With PEP 585 and hence Python 3.9, the standard collections (list/tuple/dict/set/fronsenset) support generics."
   ]
  },
  {
   "cell_type": "code",
   "execution_count": 26,
   "id": "8b2b833b-b5ad-4030-9e5c-4fbef8151e09",
   "metadata": {},
   "outputs": [
    {
     "name": "stdout",
     "output_type": "stream",
     "text": [
      "Before Python 3.9\n",
      "type of v1: <class 'tuple'>\n",
      "type of v2: <class 'set'>\n",
      "type of v3: <class 'dict'>\n",
      "As of Python 3.9\n",
      "type of v1: <class 'tuple'>\n",
      "type of v2: <class 'set'>\n",
      "type of v3: <class 'dict'>\n"
     ]
    }
   ],
   "source": [
    "import typing\n",
    "print(\"Before Python 3.9\")\n",
    "\n",
    "v1: typing.Tuple[str, int, bool] = (\"abc\", 123, True)\n",
    "print(f\"type of v1: {type(v1)}\")\n",
    "\n",
    "v2: typing.Set[int] = {1, 2, 3, 3, 4, 5, 5, 5}\n",
    "print(f\"type of v2: {type(v2)}\")\n",
    "\n",
    "v3: typing.Dict[str, str] = {\"k1\": \"v1\", \"k2\": \"v2\"}\n",
    "print(f\"type of v3: {type(v3)}\")\n",
    "\n",
    "\n",
    "print(\"As of Python 3.9\")\n",
    "v1: tuple[str, int, bool] = (\"abc\", 123, True)\n",
    "print(f\"type of v1: {type(v1)}\")\n",
    "\n",
    "v2: set[int] = {1, 2, 3, 3, 4, 5, 5, 5}\n",
    "print(f\"type of v2: {type(v2)}\")\n",
    "\n",
    "v3: dict[str, str] = {\"k1\": \"v1\", \"k2\": \"v2\"}\n",
    "print(f\"type of v3: {type(v3)}\")"
   ]
  },
  {
   "cell_type": "markdown",
   "id": "5198cf9e-890f-454b-8cc7-cdaffe8a3ac1",
   "metadata": {},
   "source": [
    "## Factories for the types"
   ]
  },
  {
   "cell_type": "markdown",
   "id": "cdb01684-9230-4dc4-a790-9f3187afaef7",
   "metadata": {},
   "source": [
    "### bool()"
   ]
  },
  {
   "cell_type": "markdown",
   "id": "74478911-d051-495b-8dbb-1144183b1116",
   "metadata": {},
   "source": [
    "- Convert any object into bool value (True | False)\n",
    "- For the rule to determine any object's bool value, please refer to https://docs.python.org/3/library/stdtypes.html#truth"
   ]
  },
  {
   "cell_type": "code",
   "execution_count": 27,
   "id": "2999bfca-ba5e-4dc0-8031-c11215ed13e2",
   "metadata": {},
   "outputs": [
    {
     "name": "stdout",
     "output_type": "stream",
     "text": [
      "None is False\n",
      "empty list is False\n",
      "non-empty list is True\n",
      "empty dict (map) is False\n",
      "empty str is False\n",
      "0 (int) is False\n",
      "0.0 (float) is False\n",
      "non-zero number is True\n",
      "object is True\n",
      "object with __bool__ returning False is False\n",
      "object with __len__ returning 0 is False\n"
     ]
    }
   ],
   "source": [
    "class FalseMan:\n",
    "    def __bool__(self):\n",
    "        return False\n",
    "\n",
    "class ZeroMan:\n",
    "    def __len__(self):\n",
    "        return 0\n",
    "\n",
    "print(f\"None is {bool(None)}\")\n",
    "print(f\"empty list is {bool([])}\")\n",
    "print(f\"non-empty list is {bool([1])}\")\n",
    "print(f\"empty dict (map) is {bool({})}\")\n",
    "print(f\"empty str is {bool('')}\")\n",
    "print(f\"0 (int) is {bool(0)}\")\n",
    "print(f\"0.0 (float) is {bool(0.0)}\")\n",
    "print(f\"non-zero number is {bool(2)}\")\n",
    "print(f\"object is {bool(object())}\")\n",
    "print(f\"object with __bool__ returning False is {bool(FalseMan())}\")\n",
    "print(f\"object with __len__ returning 0 is {bool(ZeroMan())}\")"
   ]
  },
  {
   "cell_type": "code",
   "execution_count": 28,
   "id": "8994eae7-ca67-4f6d-861c-bc13942a1c83",
   "metadata": {},
   "outputs": [],
   "source": [
    "some_list: list = ...\n",
    "if some_list:\n",
    "    # we are certain that some_list is not None and it's not empty\n",
    "    # same as 'if (someList != null && someList.isEmpty()) {...}' in Java\n",
    "    pass"
   ]
  },
  {
   "cell_type": "markdown",
   "id": "7d8800c1-cfea-4dd6-84fc-25a8ef8ca4c4",
   "metadata": {},
   "source": [
    "### int() and float()"
   ]
  },
  {
   "cell_type": "code",
   "execution_count": 29,
   "id": "12e540f2-140f-4ba4-82b4-46d08d9ecc62",
   "metadata": {},
   "outputs": [
    {
     "name": "stdout",
     "output_type": "stream",
     "text": [
      "1.23\n",
      "1.23\n",
      "10000000000.0\n",
      "nan\n",
      "10000000000000000000000000000000000000000000000000000000000000000000000000000000000000000000000000000\n"
     ]
    }
   ],
   "source": [
    "print(float(1.23))\n",
    "print(float(\"1.23\"))\n",
    "print(float(\"1e10\"))\n",
    "print(float(\"NaN\"))\n",
    "\n",
    "# yes, int can be as big as you want\n",
    "# but don't let the wild int eat up all the memory\n",
    "print(int(f\"1{'0' * 100}\"))"
   ]
  },
  {
   "cell_type": "markdown",
   "id": "0ca74126-19ea-4818-ba5d-208776f10fbe",
   "metadata": {},
   "source": [
    "### tuple()"
   ]
  },
  {
   "cell_type": "code",
   "execution_count": 30,
   "id": "85815b31-52f5-4a64-bda5-606a41e3ff08",
   "metadata": {},
   "outputs": [
    {
     "data": {
      "text/plain": [
       "True"
      ]
     },
     "execution_count": 30,
     "metadata": {},
     "output_type": "execute_result"
    }
   ],
   "source": [
    "tuple([1, 2, 3]) == (1, 2, 3)"
   ]
  },
  {
   "cell_type": "code",
   "execution_count": 31,
   "id": "fae351a5-dd43-4715-8054-18a9166a5447",
   "metadata": {},
   "outputs": [
    {
     "data": {
      "text/plain": [
       "True"
      ]
     },
     "execution_count": 31,
     "metadata": {},
     "output_type": "execute_result"
    }
   ],
   "source": [
    "tuple((1, 2, 3)) == (1, 2, 3)"
   ]
  },
  {
   "cell_type": "code",
   "execution_count": 32,
   "id": "72791d97-a887-4a7b-bdc7-9bf398e3a0bd",
   "metadata": {},
   "outputs": [
    {
     "data": {
      "text/plain": [
       "False"
      ]
     },
     "execution_count": 32,
     "metadata": {},
     "output_type": "execute_result"
    }
   ],
   "source": [
    "tuple([1]) == (1)"
   ]
  },
  {
   "cell_type": "code",
   "execution_count": 33,
   "id": "7c12129b-496c-4bef-b448-955c4b7086ec",
   "metadata": {},
   "outputs": [
    {
     "name": "stdout",
     "output_type": "stream",
     "text": [
      "type of tuple([1]) is <class 'tuple'> and type of (1) is <class 'int'>\n"
     ]
    }
   ],
   "source": [
    "print(f\"type of tuple([1]) is {type(tuple([1]))} and type of (1) is {type((1))}\")"
   ]
  },
  {
   "cell_type": "code",
   "execution_count": 34,
   "id": "2ba1a565-834c-4ba5-96b9-2a46537946c8",
   "metadata": {},
   "outputs": [
    {
     "data": {
      "text/plain": [
       "True"
      ]
     },
     "execution_count": 34,
     "metadata": {},
     "output_type": "execute_result"
    }
   ],
   "source": [
    "tuple([1]) == (1,)"
   ]
  },
  {
   "cell_type": "markdown",
   "id": "2a58e50f-9acc-4734-8098-90c4a0eb8017",
   "metadata": {},
   "source": [
    "### str()\n",
    "- Return a string version of the given object\n",
    "- If no object is passed, return an empty string\n",
    "- Refer to https://docs.python.org/3/library/stdtypes.html#str for the details"
   ]
  },
  {
   "cell_type": "markdown",
   "id": "f947ffe0-c9c7-4987-8dc8-dfb1e2412b86",
   "metadata": {},
   "source": [
    "### list\n",
    "- https://docs.python.org/3/library/stdtypes.html#list\n",
    "#### list()\n",
    "- Create a list for the given iterable"
   ]
  },
  {
   "cell_type": "code",
   "execution_count": 35,
   "id": "a207573d-035c-40b0-bcf1-7abdfcf1e690",
   "metadata": {},
   "outputs": [
    {
     "name": "stdout",
     "output_type": "stream",
     "text": [
      "range(10): range(0, 10)\n",
      "list(range(10)): [0, 1, 2, 3, 4, 5, 6, 7, 8, 9]\n",
      "list('abc'): ['a', 'b', 'c']\n",
      "list(ManWhoCanIterate(5)): [0, 1, 2, 3, 4]\n"
     ]
    }
   ],
   "source": [
    "print(f\"range(10): {range(10)}\")\n",
    "\n",
    "print(f\"list(range(10)): {list(range(10))}\")\n",
    "\n",
    "print(f\"list('abc'): {list('abc')}\")\n",
    "\n",
    "print(f\"list(ManWhoCanIterate(5)): {list(ManWhoCanIterate(5))}\")\n"
   ]
  },
  {
   "cell_type": "markdown",
   "id": "adaa65af-5074-4d0e-ab28-e8f87180cfd3",
   "metadata": {},
   "source": [
    "#### list comprehension (listcomps)\n",
    "- \\[\\<expression\\> for \\<item\\> in \\<iterable\\> if \\<condition\\>\\]\n",
    "- List compresension iterates any iterable, filter out items by condition and create a new list as the result\n",
    "- Python list comprehension is similar to Java streaming API (map/filter/collect)\n",
    "  ```\n",
    "  <Java collection>.stream().filter(...).map(...).collect(Collectors.toList())\n",
    "  ```"
   ]
  },
  {
   "cell_type": "code",
   "execution_count": 36,
   "id": "0f8f8e77-0627-4d8c-b7cf-be55ecf198f3",
   "metadata": {},
   "outputs": [
    {
     "name": "stdout",
     "output_type": "stream",
     "text": [
      "['**',\n",
      " '****',\n",
      " '******',\n",
      " '********',\n",
      " '**********']\n",
      "['**',\n",
      " '****',\n",
      " '******',\n",
      " '********',\n",
      " '**********']\n",
      "['**',\n",
      " '****',\n",
      " '******',\n",
      " '********',\n",
      " '**********']\n",
      "True\n"
     ]
    }
   ],
   "source": [
    "# examples from Fluent Python\n",
    "from pprint import pprint\n",
    "l1 = [\"*\" * n for n in range(1, 11) if n % 2 == 0]\n",
    "pprint(l1, width=1)\n",
    "\n",
    "l2 = [line for line in RepeatChar(\"*\", 10) if len(line) % 2 == 0]\n",
    "pprint(l2, width=1)\n",
    "\n",
    "l3 = [line for line in iter(l1)]\n",
    "pprint(l3, width=1)\n",
    "\n",
    "print(l1 == l2 == l3)"
   ]
  },
  {
   "cell_type": "markdown",
   "id": "7e02e103-d5f5-436c-857d-5508c43b6ad3",
   "metadata": {},
   "source": [
    "### set\n",
    "#### set()\n",
    "- https://docs.python.org/3/library/stdtypes.html#set\n",
    "#### set comprehension\n",
    "- \\{\\<expression\\> for \\<item\\> in \\<iterable\\> if \\<condition\\>\\}"
   ]
  },
  {
   "cell_type": "code",
   "execution_count": 37,
   "id": "dbe6ca77-f71e-4ab2-80aa-aabc2c29bb08",
   "metadata": {},
   "outputs": [
    {
     "name": "stdout",
     "output_type": "stream",
     "text": [
      "source: [1, 2, 3, 4, 5, 6, 7, 8, 9, 10, 1, 2, 3, 4, 5, 6, 7, 8, 9, 10]\n",
      "{1, 2, 3, 4, 5, 6, 7, 8, 9, 10}\n",
      "{1, 2, 3, 4, 5, 6, 7, 8, 9, 10}\n"
     ]
    }
   ],
   "source": [
    "source = list(range(1, 11)) * 2\n",
    "print(f\"source: {source}\")\n",
    "\n",
    "s1 = set(source)\n",
    "s2 = {n for n in source}\n",
    "print(s1)\n",
    "print(s2)"
   ]
  },
  {
   "cell_type": "markdown",
   "id": "73500b50-5e07-49f7-8e33-e860b0572e87",
   "metadata": {},
   "source": [
    "### dict\n",
    "#### dict()\n",
    "- https://docs.python.org/3/library/stdtypes.html#dict\n",
    "#### dict comprehension\n",
    "- \\{\\<key-expression\\>: \\<value-expression\\> for \\<item\\> in \\<iterable\\> if \\<condition\\>\\}"
   ]
  },
  {
   "cell_type": "code",
   "execution_count": 38,
   "id": "b0bfb810-19c4-405b-968b-292d351009e1",
   "metadata": {},
   "outputs": [
    {
     "name": "stdout",
     "output_type": "stream",
     "text": [
      "{'EMP-1': 'allen',\n",
      " 'EMP-2': 'alex',\n",
      " 'EMP-3': 'bob'}\n",
      "{'EMP-5': 'chris',\n",
      " 'EMP-6': 'daisy',\n",
      " 'EMP-7': 'george'}\n"
     ]
    }
   ],
   "source": [
    "from pprint import pprint\n",
    "\n",
    "id_generator = iter(range(1, 999999999999))\n",
    "\n",
    "name_batch1 = [\"allen\", \"alex\", \"bob\"]\n",
    "employees1 = {\"EMP-\" + str(id): name for id, name in zip(id_generator, name_batch1)}\n",
    "\n",
    "name_batch2 = [\"chris\", \"daisy\", \"george\"]\n",
    "employees2 = {\"EMP-\" + str(id): name for id, name in zip(id_generator, name_batch2)}\n",
    "\n",
    "pprint(employees1, width=1)\n",
    "pprint(employees2, width=1)"
   ]
  },
  {
   "cell_type": "markdown",
   "id": "0a99c0c1-7791-42bf-a957-e5c70ac2b6fa",
   "metadata": {},
   "source": [
    "# Generator\n",
    "## generator (generator function or generator factory)\n",
    "- a function that instead of using 'return', use 'yield' to generate a value\n",
    "    - a function with 'yield' is a generator (function)\n",
    "- invoking a generator (function), a generator iterator is returned\n",
    "- The type of a generator iterator is Generator which is a subclass of Iterator.\n",
    "    - you can use a generator iterator in all the places that expect an Iterator\n",
    "- When iterating on a generator interator, the iterator returns the value at each 'yield'.\n",
    "    - When the function returns (exits), the iterator throws StopIteration to denotes the end of the iteration just as Iterstors do"
   ]
  },
  {
   "cell_type": "code",
   "execution_count": 39,
   "id": "403e64ce-04d2-4d9e-bb29-1655418dad7a",
   "metadata": {},
   "outputs": [
    {
     "name": "stdout",
     "output_type": "stream",
     "text": [
      "the type of range_gen is <class 'generator'>\n",
      "is range_gen an Iterator? True\n",
      "1\n",
      "2\n",
      "3\n",
      "generator iterator ends\n",
      "range_iter raises StopIteration\n"
     ]
    }
   ],
   "source": [
    "from collections.abc import Iterator\n",
    "from typing import Optional\n",
    "\n",
    "def simple_range(start: int, end: Optional[int]):\n",
    "    current = start\n",
    "    while True:\n",
    "        # the logic incurs a bug in the case of simple_range(-5, 0) that would lead to infinite looping\n",
    "        # refer to \"Truth Value Testing\" https://docs.python.org/3/library/stdtypes.html#truth\n",
    "        if end and current > end:\n",
    "            print(\"generator iterator ends\")\n",
    "            break\n",
    "\n",
    "        yield current\n",
    "        current += 1\n",
    "\n",
    "range_iter = simple_range(1, 3)\n",
    "print(f\"the type of range_gen is {type(range_iter)}\")\n",
    "print(f\"is range_gen an Iterator? {isinstance(range_iter, Iterator)}\")\n",
    "\n",
    "for n in range_iter:\n",
    "    print(n)\n",
    "\n",
    "# like iterator, generator iterator raises StopIteration when reaching the end\n",
    "try:\n",
    "    # range_iter.__next__()\n",
    "    next(range_iter)\n",
    "except StopIteration:\n",
    "    print(\"range_iter raises StopIteration\")"
   ]
  },
  {
   "cell_type": "markdown",
   "id": "20a7edd6-56f4-4a7d-93d7-22b365748739",
   "metadata": {},
   "source": [
    "- Let's re-implement RepeatChar in a more Pythonic style\n",
    "  ``` \n",
    "  class RepeatCharIterator(Iterator):\n",
    "    def __init__(self, char: str, repeat: int):\n",
    "      self.char = char\n",
    "      self.repeat = repeat\n",
    "      self.current = 0\n",
    "\n",
    "    def __next__(self):\n",
    "      self.current = self.current + 1\n",
    "      if self.current > self.repeat:\n",
    "        raise StopIteration\n",
    "\n",
    "      return self.char * self.current\n",
    "\n",
    "    def __iter__(self):\n",
    "      return self\n",
    "\n",
    "\n",
    "  class RepeatChar:\n",
    "    def __init__(self, char: str, repeat: int):\n",
    "      self.char = char\n",
    "      self.repeat = repeat\n",
    "\n",
    "    def __iter__(self):\n",
    "      return RepeatCharIterator(self.char, self.repeat)\n",
    "  ```"
   ]
  },
  {
   "cell_type": "code",
   "execution_count": 40,
   "id": "896ce6ef-348a-4837-b3c5-7c59fcf62112",
   "metadata": {},
   "outputs": [
    {
     "name": "stdout",
     "output_type": "stream",
     "text": [
      "*\n",
      "**\n",
      "***\n",
      "****\n",
      "*****\n"
     ]
    }
   ],
   "source": [
    "def repeat_char(char: str, repeat: int):\n",
    "    for n in range(1, repeat + 1):\n",
    "        yield char * n\n",
    "\n",
    "for item in repeat_char(\"*\", 5):\n",
    "    print(item)"
   ]
  },
  {
   "cell_type": "markdown",
   "id": "24a94411-29ea-4f5d-b6f5-0e58da9fe175",
   "metadata": {},
   "source": [
    "- Also the Pythonic version of ManWhoCanIterate\n",
    "  ```\n",
    "  class ManWhoCanIterate:\n",
    "    def __init__(self, n: int):\n",
    "        self.max_number = n\n",
    "\n",
    "    def __getitem__(self, n):\n",
    "        if 0 <= n < self.max_number:\n",
    "            return n\n",
    "\n",
    "        raise IndexError\n",
    "  ```"
   ]
  },
  {
   "cell_type": "code",
   "execution_count": 41,
   "id": "414e13c2-afb0-40f5-96d9-4c348bb2f768",
   "metadata": {},
   "outputs": [
    {
     "data": {
      "text/plain": [
       "[0, 1, 2, 3, 4]"
      ]
     },
     "execution_count": 41,
     "metadata": {},
     "output_type": "execute_result"
    }
   ],
   "source": [
    "def man_who_can_iterate(n: int):\n",
    "    for n in range(n):\n",
    "        yield n\n",
    "\n",
    "list(man_who_can_iterate(5))"
   ]
  },
  {
   "cell_type": "markdown",
   "id": "9bbab8e0-4bc1-4bc1-be09-a2da4a8d8d8b",
   "metadata": {},
   "source": [
    "## generator expression (genexps)\n",
    "- (\\<expression\\> for \\<item\\> in \\<iterable\\> if \\<condition\\>)\n",
    "- another way to generate a generator iterator\n",
    "## explanations from Python documents\n",
    "- https://docs.python.org/3/glossary.html#term-generator\n",
    "- **generator** \\\n",
    "  A function which returns a generator iterator. It looks like a normal function except that it contains \\\n",
    "  yield expressions for producing a series of values usable in a for-loop or that can be retrieved one at a time with the next() function.\\\n",
    "  Usually refers to a generator function, but may refer to a generator iterator in some contexts. \\\n",
    "  In cases where the intended meaning isn’t clear, using the full terms avoids ambiguity.\n",
    "- **generator iterator** \\\n",
    "  An object created by a generator function. \\\n",
    "  Each yield temporarily suspends processing, remembering the location execution state (including local variables and pending try-statements). \\\n",
    "  When the generator iterator resumes, it picks up where it left off (in contrast to functions which start fresh on every invocation).\n",
    "- **generator expression** \\\n",
    "  An expression that returns an iterator. \\\n",
    "  It looks like a normal expression followed by a for clause defining a loop variable, range, and an optional if clause. \\\n",
    "  The combined expression generates values for an enclosing function:"
   ]
  },
  {
   "cell_type": "code",
   "execution_count": 42,
   "id": "d67f4ce3-0fa8-4df1-bf92-32c9daad9801",
   "metadata": {},
   "outputs": [
    {
     "name": "stdout",
     "output_type": "stream",
     "text": [
      "the type of man_iter is <class 'generator'>\n",
      "is man_iter an Iterator? True\n",
      "[0, 1, 2, 3, 4]\n"
     ]
    }
   ],
   "source": [
    "man_iter = (n for n in range(5))\n",
    "print(f\"the type of man_iter is {type(man_iter)}\") \n",
    "print(f\"is man_iter an Iterator? {isinstance(man_iter, Iterator)}\")\n",
    "print(list(man_iter))"
   ]
  },
  {
   "cell_type": "markdown",
   "id": "2b28ad7c-41c6-4e9b-9cac-4f4b914c4330",
   "metadata": {},
   "source": [
    "# Class\n",
    "## Instance Attributes\n",
    "### Add attributes in initializer"
   ]
  },
  {
   "cell_type": "code",
   "execution_count": 43,
   "id": "11a808c1-a8e6-43f9-9ffd-e82876c633d0",
   "metadata": {},
   "outputs": [
    {
     "name": "stdout",
     "output_type": "stream",
     "text": [
      "Employ[id=10, name=Max]\n",
      "attributes of Max: ['__class__', '__delattr__', '__dict__', '__dir__', '__doc__', '__eq__', '__format__', '__ge__', '__getattribute__', '__getstate__', '__gt__', '__hash__', '__init__', '__init_subclass__', '__le__', '__lt__', '__module__', '__ne__', '__new__', '__reduce__', '__reduce_ex__', '__repr__', '__setattr__', '__sizeof__', '__str__', '__subclasshook__', '__weakref__', 'id', 'name']\n"
     ]
    }
   ],
   "source": [
    "class Employee:\n",
    "    def __init__(self, id: int, name: str):\n",
    "        self.id = id\n",
    "        self.name = name\n",
    "\n",
    "    def __str__(self):\n",
    "        return f\"Employ[id={self.id}, name={self.name}]\"\n",
    "\n",
    "employee_max = Employee(10, \"Max\")\n",
    "print(employee_max)\n",
    "\n",
    "# 'id' and 'name' now are part of Max's attributes\n",
    "print(f\"attributes of Max: {dir(employee_max)}\")"
   ]
  },
  {
   "cell_type": "markdown",
   "id": "98e4a96b-9f02-43a5-adac-c8233350b1e1",
   "metadata": {},
   "source": [
    "### Add attributes after instances are created"
   ]
  },
  {
   "cell_type": "code",
   "execution_count": 44,
   "id": "76b55ad4-37f7-4884-bd23-48b2032cf235",
   "metadata": {},
   "outputs": [
    {
     "name": "stdout",
     "output_type": "stream",
     "text": [
      "attributes of Max: ['__class__', '__delattr__', '__dict__', '__dir__', '__doc__', '__eq__', '__format__', '__ge__', '__getattribute__', '__getstate__', '__gt__', '__hash__', '__init__', '__init_subclass__', '__le__', '__lt__', '__module__', '__ne__', '__new__', '__reduce__', '__reduce_ex__', '__repr__', '__setattr__', '__sizeof__', '__str__', '__subclasshook__', '__weakref__', 'id', 'location', 'name']\n"
     ]
    }
   ],
   "source": [
    "employee_max = Employee(10, \"Max\")\n",
    "employee_max.location = \"US\"\n",
    "\n",
    "# 'id' and 'name' now are part of Max's attributes\n",
    "print(f\"attributes of Max: {dir(employee_max)}\")"
   ]
  },
  {
   "cell_type": "markdown",
   "id": "2182e9c3-ef06-469f-8c40-50b1e565d902",
   "metadata": {},
   "source": [
    "## Class Attributes\n"
   ]
  },
  {
   "cell_type": "code",
   "execution_count": 45,
   "id": "32218eca-8313-4195-8df1-c6c46c7e3312",
   "metadata": {},
   "outputs": [
    {
     "name": "stdout",
     "output_type": "stream",
     "text": [
      "attributes of Class1 ['__class__', '__delattr__', '__dict__', '__dir__', '__doc__', '__eq__', '__format__', '__ge__', '__getattribute__', '__getstate__', '__gt__', '__hash__', '__init__', '__init_subclass__', '__le__', '__lt__', '__module__', '__ne__', '__new__', '__reduce__', '__reduce_ex__', '__repr__', '__setattr__', '__sizeof__', '__str__', '__subclasshook__', '__weakref__', 'cls_attr1', 'cls_attr2', 'cls_attr3']\n"
     ]
    }
   ],
   "source": [
    "class Class1:\n",
    "    cls_attr1 = \"abc\"\n",
    "    cls_attr2 = 123\n",
    "    cls_attr3 = False\n",
    "\n",
    "c1 = Class1()\n",
    "print(\"attributes of Class1\", dir(Class1))"
   ]
  },
  {
   "cell_type": "markdown",
   "id": "582c1481-fd6b-4eaf-8029-79686e08ddf7",
   "metadata": {},
   "source": [
    "## Class Variable Annotation\n",
    "- With PEP 526, we can add class variable annotation.\n",
    "- The syntax is\n",
    "  ```\n",
    "  <var name>: <annotation>\n",
    "  ```"
   ]
  },
  {
   "cell_type": "code",
   "execution_count": 46,
   "id": "8645150f-10ff-4bae-afbe-d2e3d10c74ee",
   "metadata": {},
   "outputs": [
    {
     "name": "stdout",
     "output_type": "stream",
     "text": [
      "{'cls_attr1': <class 'str'>, 'cls_var': dict[str, int]}\n",
      "['cls_attr1', 'cls_attr2']\n"
     ]
    }
   ],
   "source": [
    "class Class2:\n",
    "    cls_attr1: str = \"abc\"\n",
    "    cls_attr2 = {}\n",
    "    cls_var: dict[str, int]\n",
    "\n",
    "# Class2 has 2 class variable annotations\n",
    "print(get_annotations(Class2))\n",
    "\n",
    "# Class2 has 2 class attributes\n",
    "print([attr for attr in dir(Class2) if not attr.startswith(\"__\")])"
   ]
  },
  {
   "cell_type": "markdown",
   "id": "0bb348e3-3098-46bd-a424-4239ca545c85",
   "metadata": {},
   "source": [
    "## Data Class\n",
    "- PEP 557 (https://peps.python.org/pep-0557/)\n",
    "- Based on PEP 526 to read class variable annotations to automatically generate special methods to user-defined classes"
   ]
  },
  {
   "cell_type": "code",
   "execution_count": null,
   "id": "17579f1b-fe95-4502-be26-6c18c5e3dd06",
   "metadata": {},
   "outputs": [],
   "source": [
    "from dataclasses import dataclass, asdict, astuple\n",
    "\n",
    "@dataclass\n",
    "class TeamMember:\n",
    "    name: str\n",
    "    team: str\n",
    "    ranking: int\n",
    "\n",
    "    # total_count is not a variable annotation.\n",
    "    # @dataclass does not treat total_count as TeamMember's instance attribute\n",
    "    total_count = 0\n",
    "\n",
    "    # get called in the auto-generated __init__()\n",
    "    def __post_init__(self):\n",
    "        TeamMember.total_count += 1\n",
    "\n",
    "member1 = TeamMember(\"Jack\", \"devops\", 2)\n",
    "print(member1)\n",
    "print(f\"converted to dict (asdict(member1)): {asdict(member1)}\")\n",
    "print(f\"converted to tuple (astuple(member1)): {astuple(member1)}\")\n",
    "print(f\"total team members: {TeamMember.total_count}\")\n",
    "\n",
    "member2 = TeamMember(\"Neo\", \"qa\", 5)\n",
    "print(member2)\n",
    "print(f\"total team members: {TeamMember.total_count}\")"
   ]
  },
  {
   "cell_type": "markdown",
   "id": "47b326c9-856a-430e-8dfc-1798255c2c90",
   "metadata": {},
   "source": [
    "- Most of the time, class variable annotation is used as type hint to specify the expected type of a variable.\n",
    "- Class variable annotation does not need to match the actual type of the variable value\n",
    "- Class variable annotation can provide other or more information than the expected variable type.\n",
    "    - for example, we would like to provide type information to a class attribte, but we don't want it to be an instance attribute of a dataclass\n",
    "    - ClassVar is used as variable annotation to instruct @dataclass not to enlist this attribute"
   ]
  },
  {
   "cell_type": "code",
   "execution_count": null,
   "id": "d314be71-f1f7-4b39-ae20-0513cd29c3dc",
   "metadata": {},
   "outputs": [],
   "source": [
    "from dataclasses import fields\n",
    "from typing import Any, ClassVar\n",
    "\n",
    "@dataclass\n",
    "class Class3:\n",
    "    cls_var: dict[str, int]\n",
    "    cls_attr1: str = \"abc\"\n",
    "    cls_attr2: ClassVar[dict[str, Any]] = {}\n",
    "\n",
    "ds3 = Class3(cls_var={\"k1\": \"v1\"})\n",
    "print(asdict(ds3))\n",
    "print([f.name for f in fields(ds3)])"
   ]
  },
  {
   "cell_type": "markdown",
   "id": "4650210c-b8f1-48b3-aadf-9a388b4dc95a",
   "metadata": {},
   "source": [
    "- Similarily, class attribute type is different from class variable annotation (type hint) just to provide more metadata information\n",
    "    - dataclass and Pydantic both have similar mechanism to enable more granular control\n",
    "      ```\n",
    "      from pydantic import BaseModel, Field\n",
    "\n",
    "      class Product(BaseModel):\n",
    "        id: int\n",
    "        name: str = Field(None, title=\"The description of the item\", max_length=10)\n",
    "        ...\n",
    "      ```\n",
    "    - Example from https://docs.python.org/3/library/dataclasses.html#dataclasses.field"
   ]
  },
  {
   "cell_type": "code",
   "execution_count": null,
   "id": "18dd1ad5-5834-4fac-9d1e-508ca7948573",
   "metadata": {},
   "outputs": [],
   "source": [
    "@dataclass\n",
    "class C:\n",
    "    mylist: list[int] = field(default_factory=list)\n",
    "\n",
    "c = C()\n",
    "c.mylist += [1, 2, 3]\n",
    "print(c)"
   ]
  },
  {
   "cell_type": "markdown",
   "id": "59360a1b-6643-43ae-894f-38602c0321e2",
   "metadata": {},
   "source": [
    "# Decorator\n",
    "- Explanation from https://docs.python.org/3/glossary.html#term-decorator\n",
    "  ```\n",
    "  A function returning another function, usually applied as a function transformation using the @wrapper syntax. Common examples for decorators are classmethod() and staticmethod().\n",
    "\n",
    "  The decorator syntax is merely syntactic sugar, the following two function definitions are semantically equivalent:\n",
    "  \n",
    "  def f(arg):\n",
    "    ...\n",
    "\n",
    "  f = staticmethod(f)\n",
    "\n",
    "  =>\n",
    "\n",
    "  @staticmethod\n",
    "  def f(arg):\n",
    "    ...\n",
    "  ```\n",
    "- Example from https://github.com/fluentpython/example-code-2e/blob/master/09-closure-deco/clock/clockdeco0.py and https://github.com/fluentpython/example-code-2e/blob/master/09-closure-deco/clock/clockdeco_demo.py"
   ]
  },
  {
   "cell_type": "code",
   "execution_count": 48,
   "id": "269053e2-582e-47e4-b2e5-497b63d96d91",
   "metadata": {},
   "outputs": [
    {
     "name": "stdout",
     "output_type": "stream",
     "text": [
      "**************************************** Calling snooze(.123)\n",
      "[0.12650996s] snooze(0.123) -> None\n",
      "**************************************** Calling factorial(6)\n",
      "[0.00000092s] factorial(1) -> 1\n",
      "[0.00002954s] factorial(2) -> 2\n",
      "[0.00004954s] factorial(3) -> 6\n",
      "[0.00006667s] factorial(4) -> 24\n",
      "[0.00008404s] factorial(5) -> 120\n",
      "[0.00010142s] factorial(6) -> 720\n",
      "6! = 720\n"
     ]
    }
   ],
   "source": [
    "import time\n",
    "\n",
    "def clock(func):\n",
    "    def clocked(*args):  # <1>\n",
    "        t0 = time.perf_counter()\n",
    "        result = func(*args)  # <2>\n",
    "        elapsed = time.perf_counter() - t0\n",
    "        name = func.__name__\n",
    "        arg_str = ', '.join(repr(arg) for arg in args)\n",
    "        print(f'[{elapsed:0.8f}s] {name}({arg_str}) -> {result!r}')\n",
    "        return result\n",
    "    return clocked\n",
    "\n",
    "@clock\n",
    "def snooze(seconds):\n",
    "    time.sleep(seconds)\n",
    "\n",
    "@clock\n",
    "def factorial(n):\n",
    "    return 1 if n < 2 else n*factorial(n-1)\n",
    "\n",
    "print('*' * 40, 'Calling snooze(.123)')\n",
    "snooze(.123)\n",
    "print('*' * 40, 'Calling factorial(6)')\n",
    "print('6! =', factorial(6))"
   ]
  },
  {
   "cell_type": "markdown",
   "id": "e2bf09f3-99ff-4c10-8f23-809d725160a8",
   "metadata": {},
   "source": [
    "# Pitfalls\n",
    "## Do NOT use mutable object as class attribute's or parameter's default value\n",
    "- function default values are stored in function's parameter object\n",
    "- there is only one copy for a parameter's default whether it's a function, class's __init__() or class'sregular methods)"
   ]
  },
  {
   "cell_type": "code",
   "execution_count": null,
   "id": "a8230c2c-3b8d-4a1f-b0e7-b099e65ccd5a",
   "metadata": {},
   "outputs": [],
   "source": [
    "import inspect\n",
    "\n",
    "def func_with_default_value(param1: str = \"abc\", param2: int = 10):\n",
    "    pass\n",
    "\n",
    "def print_func_default_params(func):\n",
    "    print([(name, param.default) for name, param \n",
    "            in inspect.signature(func).parameters.items() \n",
    "            if param.default is not param.empty])\n",
    "\n",
    "print_func_default_params(func_with_default_value)"
   ]
  },
  {
   "cell_type": "markdown",
   "id": "301e98aa-c90d-4525-97c1-d885228c0f71",
   "metadata": {},
   "source": [
    "- Observe the unexpected behavior of a function with mutable default value"
   ]
  },
  {
   "cell_type": "code",
   "execution_count": null,
   "id": "5c9cfcad-d168-4ac5-8b62-2b8470893446",
   "metadata": {},
   "outputs": [],
   "source": [
    "# sample code source: https://github.com/fluentpython/example-code-2e/blob/master/06-obj-ref/haunted_bus.py\n",
    "class HauntedBus:\n",
    "  \"\"\"A bus model haunted by ghost passengers\"\"\"\n",
    "\n",
    "  def __init__(self, passengers=[]):  # <1>\n",
    "    self.passengers = passengers  # <2>\n",
    "\n",
    "  def pick(self, name):\n",
    "    self.passengers.append(name)  # <3>\n",
    "\n",
    "  def drop(self, name):\n",
    "    self.passengers.remove(name)\n",
    "\n",
    "print_func_default_params(HauntedBus.__init__)\n",
    "\n",
    "harvard_bus = HauntedBus()\n",
    "harvard_bus.pick(\"sam\")\n",
    "harvard_bus.pick(\"joe\")\n",
    "harvard_bus.pick(\"bob\")\n",
    "harvard_bus.drop(\"sam\")\n",
    "harvard_bus.pick(\"zoe\")\n",
    "harvard_bus.drop(\"bob\")\n",
    "print(f\"{harvard_bus.passengers} are still on the harvard bus\")\n",
    "\n",
    "print_func_default_params(HauntedBus.__init__)\n",
    "\n",
    "yale_bus = HauntedBus()\n",
    "yale_bus.pick(\"alex\")\n",
    "print(f\"{yale_bus.passengers} are still on the yale bus\")\n",
    "\n",
    "print_func_default_params(HauntedBus.__init__)\n"
   ]
  },
  {
   "cell_type": "markdown",
   "id": "7f41adb6-3d9d-420e-84d7-5777491e419f",
   "metadata": {},
   "source": [
    "### Data Class \n",
    "- You can specify default value in dataclass.\n",
    "- If you use mutable values as default values in dataclass, Python interpretor would complain and issue an error:\n",
    "  ```\n",
    "  @dataclass\n",
    "    class HauntedBus2:\n",
    "      capacity: int = 10\n",
    "      passengers: list[str] = []\n",
    "  \n",
    "  ValueError: mutable default <class 'list'> for field passengers is not allowed: use default_factory\n",
    "  ```\n",
    "- Similar to function parameter default value, the default values of dataclass attributes are stored as class attributes.\n",
    "  There are only one copy of them."
   ]
  },
  {
   "cell_type": "code",
   "execution_count": null,
   "id": "c2cebad6-d3c0-4be6-80f1-e2a7bb3485af",
   "metadata": {},
   "outputs": [],
   "source": [
    "from dataclasses import field\n",
    "\n",
    "@dataclass\n",
    "class HauntedBus2:\n",
    "  capacity: int = 10\n",
    "  passengers: list[str] = field(default_factory=list)\n"
   ]
  },
  {
   "cell_type": "code",
   "execution_count": null,
   "id": "864b8647-df80-4e91-a11c-42accf5b1c34",
   "metadata": {},
   "outputs": [],
   "source": []
  }
 ],
 "metadata": {
  "kernelspec": {
   "display_name": "Python 3 (ipykernel)",
   "language": "python",
   "name": "python3"
  },
  "language_info": {
   "codemirror_mode": {
    "name": "ipython",
    "version": 3
   },
   "file_extension": ".py",
   "mimetype": "text/x-python",
   "name": "python",
   "nbconvert_exporter": "python",
   "pygments_lexer": "ipython3",
   "version": "3.11.6"
  }
 },
 "nbformat": 4,
 "nbformat_minor": 5
}
